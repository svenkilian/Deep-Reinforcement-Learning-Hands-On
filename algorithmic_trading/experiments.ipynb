{
 "cells": [
  {
   "cell_type": "code",
   "execution_count": 1,
   "metadata": {},
   "outputs": [
    {
     "name": "stderr",
     "output_type": "stream",
     "text": [
      "\n"
     ]
    }
   ],
   "source": [
    "import numpy as np\n",
    "import pandas as pd\n",
    "import collections\n",
    "import gym\n",
    "import matplotlib.pyplot as plt\n",
    "from lib import data, environ\n",
    "from typing import List, Optional, Tuple, Any\n",
    "from tensorforce import Agent, Environment\n",
    "from tensorforce.core.networks import AutoNetwork\n",
    "from tensorforce.execution import Runner\n",
    "from tensorforce.core.layers import Dense, Gru\n",
    "%load_ext blackcellmagic"
   ]
  },
  {
   "cell_type": "code",
   "execution_count": 16,
   "metadata": {},
   "outputs": [],
   "source": [
    "# prices = data.load_relative(\"data/BTC_history_n.csv\")\n",
    "prices = data.load_by_date(\"data/BTC_history_n.csv\", date_range=('2018-01-01', '2019-12-31'))"
   ]
  },
  {
   "cell_type": "code",
   "execution_count": 17,
   "metadata": {},
   "outputs": [
    {
     "name": "stdout",
     "output_type": "stream",
     "text": [
      "Reward: 0.0\n",
      "Done: False\n",
      "Info: {'instrument': 'btc', 'offset': 92}\n",
      "Number of trading days in data: 730\n"
     ]
    }
   ],
   "source": [
    "env = environ.StocksEnv(\n",
    "    prices={\"btc\": prices}, state_1d=False, volumes=True, commission=0.0, bars_count=10, reward_on_close=False, reset_on_close=True,\n",
    ")\n",
    "obs = env.reset()\n",
    "obs, reward, done, info = env.step(0)\n",
    "print(f\"Reward: {reward}\")\n",
    "print(f\"Done: {done}\")\n",
    "print(f\"Info: {info}\")\n",
    "print(f'Number of trading days in data: {env._prices.get(\"btc\").open.shape[0]}')"
   ]
  },
  {
   "cell_type": "code",
   "execution_count": 18,
   "metadata": {},
   "outputs": [
    {
     "name": "stdout",
     "output_type": "stream",
     "text": [
      "{'type': 'int', 'shape': (), 'num_values': 3}\n",
      "{'type': 'float', 'shape': (42,), 'min_value': None, 'max_value': None}\n"
     ]
    }
   ],
   "source": [
    "environment = Environment.create(environment=env, max_episode_timesteps=500)\n",
    "print(environment.actions())\n",
    "print(environment.states())"
   ]
  },
  {
   "cell_type": "code",
   "execution_count": 19,
   "metadata": {},
   "outputs": [],
   "source": [
    "# Instantiate a Tensorforce agent\n",
    "if False:\n",
    "    agent_ = Agent.create(\n",
    "        agent=\"dueling_dqn\",\n",
    "        max_episode_timesteps=1000,\n",
    "        environment=environment,\n",
    "        memory=100000,\n",
    "        # update=dict(unit=\"timesteps\", batch_size=32),\n",
    "        batch_size=32,\n",
    "        # optimizer=dict(type=\"adam\", learning_rate=3e-4),\n",
    "        # policy=dict(network=\"auto\"),\n",
    "        # objective=\"policy_gradient\",\n",
    "        start_updating=1e4,\n",
    "        # network=dict(network=[Gru(size=5, horizon=5, name='GRU_1'), Dense(size=3, name='Dense_1')]),\n",
    "        # network=dict(network=[dict(type='dense', size=32), dict(type='dense', size=3)]),\n",
    "        network='auto',\n",
    "        # reward_estimation=dict(horizon=4, discount=0.99),\n",
    "        discount=0.99,\n",
    "        target_sync_frequency=1e3,\n",
    "        config=dict(name=\"agent_007\"),\n",
    "        summarizer=dict(\n",
    "            directory=\"runs/summaries\",\n",
    "            # list of labels, or 'all'\n",
    "            summaries=[\"entropy\", \"kl-divergence\", \"loss\", \"reward\", \"update-norm\"],\n",
    "        ),\n",
    "    )"
   ]
  },
  {
   "cell_type": "code",
   "execution_count": 27,
   "metadata": {},
   "outputs": [
    {
     "name": "stderr",
     "output_type": "stream",
     "text": [
      "WARNING:root:No min_value bound specified for state.\n"
     ]
    }
   ],
   "source": [
    "# Instantiate a Tensorforce agent\n",
    "agent = Agent.create(\n",
    "    agent=\"dueling_dqn\",\n",
    "    environment=environment,\n",
    "    # optimizer=dict(optimizer=\"adam\", learning_rate=1e-3),\n",
    "    # update=dict(unit=\"timesteps\", batch_size=32),\n",
    "    batch_size=32,\n",
    "    # objective=\"policy_gradient\",\n",
    "    # reward_estimation=dict(horizon=5),\n",
    "    max_episode_timesteps=1000,\n",
    "    memory=10000,\n",
    "    config=dict(name=\"agent_001\", device='cpu'),\n",
    "    summarizer=dict(\n",
    "            directory=\"runs/summaries\",\n",
    "            # list of labels, or 'all'\n",
    "            # summaries=[\"entropy\", \"kl-divergence\", \"loss\", \"reward\", \"update-norm\"],\n",
    "            summaries='all',\n",
    "        ),\n",
    ")"
   ]
  },
  {
   "cell_type": "code",
   "execution_count": 28,
   "metadata": {},
   "outputs": [],
   "source": [
    "runner = Runner(\n",
    "    agent=agent,\n",
    "    environment=environment,\n",
    ")"
   ]
  },
  {
   "cell_type": "code",
   "execution_count": 29,
   "metadata": {},
   "outputs": [
    {
     "data": {
      "application/vnd.jupyter.widget-view+json": {
       "model_id": "80d7bc1ebadb4e48aed88b45af1ea1ee",
       "version_major": 2,
       "version_minor": 0
      },
      "text/plain": [
       "Episodes:   0%|          | 0/500 [00:00, return=0.00, ts/ep=0, sec/ep=0.00, ms/ts=0.0, agent=0.0%]"
      ]
     },
     "metadata": {},
     "output_type": "display_data"
    },
    {
     "ename": "KeyboardInterrupt",
     "evalue": "",
     "output_type": "error",
     "traceback": [
      "\u001b[0;31m---------------------------------------------------------------------------\u001b[0m",
      "\u001b[0;31mKeyboardInterrupt\u001b[0m                         Traceback (most recent call last)",
      "\u001b[1;32m/home/svenk/Projects/Deep-Reinforcement-Learning-Hands-On/algorithmic_trading/experiments.ipynb Cell 8'\u001b[0m in \u001b[0;36m<cell line: 1>\u001b[0;34m()\u001b[0m\n\u001b[0;32m----> <a href='vscode-notebook-cell://wsl%2Bubuntu-20.04/home/svenk/Projects/Deep-Reinforcement-Learning-Hands-On/algorithmic_trading/experiments.ipynb#ch0000007vscode-remote?line=0'>1</a>\u001b[0m runner\u001b[39m.\u001b[39;49mrun(num_episodes\u001b[39m=\u001b[39;49m\u001b[39m500\u001b[39;49m)\n\u001b[1;32m      <a href='vscode-notebook-cell://wsl%2Bubuntu-20.04/home/svenk/Projects/Deep-Reinforcement-Learning-Hands-On/algorithmic_trading/experiments.ipynb#ch0000007vscode-remote?line=1'>2</a>\u001b[0m runner\u001b[39m.\u001b[39mclose()\n",
      "File \u001b[0;32m~/virtualenvs/tensorforce/lib/python3.9/site-packages/tensorforce/execution/runner.py:652\u001b[0m, in \u001b[0;36mRunner.run\u001b[0;34m(self, num_episodes, num_timesteps, num_updates, batch_agent_calls, sync_timesteps, sync_episodes, num_sleep_secs, callback, callback_episode_frequency, callback_timestep_frequency, use_tqdm, mean_horizon, evaluation, save_best_agent, evaluation_callback)\u001b[0m\n\u001b[1;32m    <a href='file:///home/svenk/virtualenvs/tensorforce/lib/python3.9/site-packages/tensorforce/execution/runner.py?line=648'>649</a>\u001b[0m     \u001b[39mself\u001b[39m\u001b[39m.\u001b[39mhandle_act(parallel\u001b[39m=\u001b[39mn)\n\u001b[1;32m    <a href='file:///home/svenk/virtualenvs/tensorforce/lib/python3.9/site-packages/tensorforce/execution/runner.py?line=649'>650</a>\u001b[0m \u001b[39melse\u001b[39;00m:\n\u001b[1;32m    <a href='file:///home/svenk/virtualenvs/tensorforce/lib/python3.9/site-packages/tensorforce/execution/runner.py?line=650'>651</a>\u001b[0m     \u001b[39m# Observe\u001b[39;00m\n\u001b[0;32m--> <a href='file:///home/svenk/virtualenvs/tensorforce/lib/python3.9/site-packages/tensorforce/execution/runner.py?line=651'>652</a>\u001b[0m     \u001b[39mself\u001b[39;49m\u001b[39m.\u001b[39;49mhandle_observe(parallel\u001b[39m=\u001b[39;49mn)\n\u001b[1;32m    <a href='file:///home/svenk/virtualenvs/tensorforce/lib/python3.9/site-packages/tensorforce/execution/runner.py?line=652'>653</a>\u001b[0m     \u001b[39mif\u001b[39;00m \u001b[39mself\u001b[39m\u001b[39m.\u001b[39mterminals[n] \u001b[39m==\u001b[39m \u001b[39m0\u001b[39m:\n\u001b[1;32m    <a href='file:///home/svenk/virtualenvs/tensorforce/lib/python3.9/site-packages/tensorforce/execution/runner.py?line=653'>654</a>\u001b[0m         \u001b[39m# Act\u001b[39;00m\n\u001b[1;32m    <a href='file:///home/svenk/virtualenvs/tensorforce/lib/python3.9/site-packages/tensorforce/execution/runner.py?line=654'>655</a>\u001b[0m         \u001b[39mself\u001b[39m\u001b[39m.\u001b[39mhandle_act(parallel\u001b[39m=\u001b[39mn)\n",
      "File \u001b[0;32m~/virtualenvs/tensorforce/lib/python3.9/site-packages/tensorforce/execution/runner.py:779\u001b[0m, in \u001b[0;36mRunner.handle_observe\u001b[0;34m(self, parallel)\u001b[0m\n\u001b[1;32m    <a href='file:///home/svenk/virtualenvs/tensorforce/lib/python3.9/site-packages/tensorforce/execution/runner.py?line=776'>777</a>\u001b[0m \u001b[39mif\u001b[39;00m \u001b[39mnot\u001b[39;00m \u001b[39mself\u001b[39m\u001b[39m.\u001b[39mbatch_agent_calls:\n\u001b[1;32m    <a href='file:///home/svenk/virtualenvs/tensorforce/lib/python3.9/site-packages/tensorforce/execution/runner.py?line=777'>778</a>\u001b[0m     agent_start \u001b[39m=\u001b[39m time\u001b[39m.\u001b[39mtime()\n\u001b[0;32m--> <a href='file:///home/svenk/virtualenvs/tensorforce/lib/python3.9/site-packages/tensorforce/execution/runner.py?line=778'>779</a>\u001b[0m     updated \u001b[39m=\u001b[39m \u001b[39mself\u001b[39;49m\u001b[39m.\u001b[39;49magent\u001b[39m.\u001b[39;49mobserve(\n\u001b[1;32m    <a href='file:///home/svenk/virtualenvs/tensorforce/lib/python3.9/site-packages/tensorforce/execution/runner.py?line=779'>780</a>\u001b[0m         terminal\u001b[39m=\u001b[39;49m\u001b[39mself\u001b[39;49m\u001b[39m.\u001b[39;49mterminals[parallel], reward\u001b[39m=\u001b[39;49m\u001b[39mself\u001b[39;49m\u001b[39m.\u001b[39;49mrewards[parallel], parallel\u001b[39m=\u001b[39;49mparallel\n\u001b[1;32m    <a href='file:///home/svenk/virtualenvs/tensorforce/lib/python3.9/site-packages/tensorforce/execution/runner.py?line=780'>781</a>\u001b[0m     )\n\u001b[1;32m    <a href='file:///home/svenk/virtualenvs/tensorforce/lib/python3.9/site-packages/tensorforce/execution/runner.py?line=781'>782</a>\u001b[0m     \u001b[39mself\u001b[39m\u001b[39m.\u001b[39mepisode_agent_second[parallel] \u001b[39m+\u001b[39m\u001b[39m=\u001b[39m time\u001b[39m.\u001b[39mtime() \u001b[39m-\u001b[39m agent_start\n\u001b[1;32m    <a href='file:///home/svenk/virtualenvs/tensorforce/lib/python3.9/site-packages/tensorforce/execution/runner.py?line=782'>783</a>\u001b[0m     \u001b[39mself\u001b[39m\u001b[39m.\u001b[39mupdates \u001b[39m+\u001b[39m\u001b[39m=\u001b[39m \u001b[39mint\u001b[39m(updated)\n",
      "File \u001b[0;32m~/virtualenvs/tensorforce/lib/python3.9/site-packages/tensorforce/agents/agent.py:558\u001b[0m, in \u001b[0;36mAgent.observe\u001b[0;34m(self, reward, terminal, parallel)\u001b[0m\n\u001b[1;32m    <a href='file:///home/svenk/virtualenvs/tensorforce/lib/python3.9/site-packages/tensorforce/agents/agent.py?line=552'>553</a>\u001b[0m parallel_tensor \u001b[39m=\u001b[39m \u001b[39mself\u001b[39m\u001b[39m.\u001b[39mparallel_spec\u001b[39m.\u001b[39mto_tensor(\n\u001b[1;32m    <a href='file:///home/svenk/virtualenvs/tensorforce/lib/python3.9/site-packages/tensorforce/agents/agent.py?line=553'>554</a>\u001b[0m     value\u001b[39m=\u001b[39mp, batched\u001b[39m=\u001b[39m\u001b[39mFalse\u001b[39;00m, name\u001b[39m=\u001b[39m\u001b[39m'\u001b[39m\u001b[39mAgent.observe parallel\u001b[39m\u001b[39m'\u001b[39m\n\u001b[1;32m    <a href='file:///home/svenk/virtualenvs/tensorforce/lib/python3.9/site-packages/tensorforce/agents/agent.py?line=554'>555</a>\u001b[0m )\n\u001b[1;32m    <a href='file:///home/svenk/virtualenvs/tensorforce/lib/python3.9/site-packages/tensorforce/agents/agent.py?line=556'>557</a>\u001b[0m \u001b[39m# Model.observe()\u001b[39;00m\n\u001b[0;32m--> <a href='file:///home/svenk/virtualenvs/tensorforce/lib/python3.9/site-packages/tensorforce/agents/agent.py?line=557'>558</a>\u001b[0m updated, episodes, updates \u001b[39m=\u001b[39m \u001b[39mself\u001b[39;49m\u001b[39m.\u001b[39;49mmodel\u001b[39m.\u001b[39;49mobserve(\n\u001b[1;32m    <a href='file:///home/svenk/virtualenvs/tensorforce/lib/python3.9/site-packages/tensorforce/agents/agent.py?line=558'>559</a>\u001b[0m     terminal\u001b[39m=\u001b[39;49mterminal_tensor, reward\u001b[39m=\u001b[39;49mreward_tensor, parallel\u001b[39m=\u001b[39;49mparallel_tensor\n\u001b[1;32m    <a href='file:///home/svenk/virtualenvs/tensorforce/lib/python3.9/site-packages/tensorforce/agents/agent.py?line=559'>560</a>\u001b[0m )\n\u001b[1;32m    <a href='file:///home/svenk/virtualenvs/tensorforce/lib/python3.9/site-packages/tensorforce/agents/agent.py?line=560'>561</a>\u001b[0m num_updates \u001b[39m+\u001b[39m\u001b[39m=\u001b[39m \u001b[39mint\u001b[39m(updated\u001b[39m.\u001b[39mnumpy()\u001b[39m.\u001b[39mitem())\n\u001b[1;32m    <a href='file:///home/svenk/virtualenvs/tensorforce/lib/python3.9/site-packages/tensorforce/agents/agent.py?line=561'>562</a>\u001b[0m \u001b[39mself\u001b[39m\u001b[39m.\u001b[39mepisodes \u001b[39m=\u001b[39m episodes\u001b[39m.\u001b[39mnumpy()\u001b[39m.\u001b[39mitem()\n",
      "File \u001b[0;32m~/virtualenvs/tensorforce/lib/python3.9/site-packages/tensorforce/core/module.py:136\u001b[0m, in \u001b[0;36mtf_function.<locals>.decorator.<locals>.decorated\u001b[0;34m(self, _initialize, *args, **kwargs)\u001b[0m\n\u001b[1;32m    <a href='file:///home/svenk/virtualenvs/tensorforce/lib/python3.9/site-packages/tensorforce/core/module.py?line=133'>134</a>\u001b[0m \u001b[39m# Apply function graph\u001b[39;00m\n\u001b[1;32m    <a href='file:///home/svenk/virtualenvs/tensorforce/lib/python3.9/site-packages/tensorforce/core/module.py?line=134'>135</a>\u001b[0m \u001b[39mwith\u001b[39;00m \u001b[39mself\u001b[39m:\n\u001b[0;32m--> <a href='file:///home/svenk/virtualenvs/tensorforce/lib/python3.9/site-packages/tensorforce/core/module.py?line=135'>136</a>\u001b[0m     output_args \u001b[39m=\u001b[39m function_graphs[\u001b[39mstr\u001b[39;49m(graph_params)](\u001b[39m*\u001b[39;49mgraph_args)\n\u001b[1;32m    <a href='file:///home/svenk/virtualenvs/tensorforce/lib/python3.9/site-packages/tensorforce/core/module.py?line=136'>137</a>\u001b[0m \u001b[39mif\u001b[39;00m \u001b[39mnot\u001b[39;00m is_loop_body:\n\u001b[1;32m    <a href='file:///home/svenk/virtualenvs/tensorforce/lib/python3.9/site-packages/tensorforce/core/module.py?line=137'>138</a>\u001b[0m     \u001b[39mreturn\u001b[39;00m output_signature\u001b[39m.\u001b[39margs_to_kwargs(\n\u001b[1;32m    <a href='file:///home/svenk/virtualenvs/tensorforce/lib/python3.9/site-packages/tensorforce/core/module.py?line=138'>139</a>\u001b[0m         args\u001b[39m=\u001b[39moutput_args, outer_tuple\u001b[39m=\u001b[39m\u001b[39mTrue\u001b[39;00m, from_dict\u001b[39m=\u001b[39mdict_interface\n\u001b[1;32m    <a href='file:///home/svenk/virtualenvs/tensorforce/lib/python3.9/site-packages/tensorforce/core/module.py?line=139'>140</a>\u001b[0m     )\n",
      "File \u001b[0;32m~/virtualenvs/tensorforce/lib/python3.9/site-packages/tensorflow/python/eager/def_function.py:885\u001b[0m, in \u001b[0;36mFunction.__call__\u001b[0;34m(self, *args, **kwds)\u001b[0m\n\u001b[1;32m    <a href='file:///home/svenk/virtualenvs/tensorforce/lib/python3.9/site-packages/tensorflow/python/eager/def_function.py?line=881'>882</a>\u001b[0m compiler \u001b[39m=\u001b[39m \u001b[39m\"\u001b[39m\u001b[39mxla\u001b[39m\u001b[39m\"\u001b[39m \u001b[39mif\u001b[39;00m \u001b[39mself\u001b[39m\u001b[39m.\u001b[39m_jit_compile \u001b[39melse\u001b[39;00m \u001b[39m\"\u001b[39m\u001b[39mnonXla\u001b[39m\u001b[39m\"\u001b[39m\n\u001b[1;32m    <a href='file:///home/svenk/virtualenvs/tensorforce/lib/python3.9/site-packages/tensorflow/python/eager/def_function.py?line=883'>884</a>\u001b[0m \u001b[39mwith\u001b[39;00m OptionalXlaContext(\u001b[39mself\u001b[39m\u001b[39m.\u001b[39m_jit_compile):\n\u001b[0;32m--> <a href='file:///home/svenk/virtualenvs/tensorforce/lib/python3.9/site-packages/tensorflow/python/eager/def_function.py?line=884'>885</a>\u001b[0m   result \u001b[39m=\u001b[39m \u001b[39mself\u001b[39;49m\u001b[39m.\u001b[39;49m_call(\u001b[39m*\u001b[39;49margs, \u001b[39m*\u001b[39;49m\u001b[39m*\u001b[39;49mkwds)\n\u001b[1;32m    <a href='file:///home/svenk/virtualenvs/tensorforce/lib/python3.9/site-packages/tensorflow/python/eager/def_function.py?line=886'>887</a>\u001b[0m new_tracing_count \u001b[39m=\u001b[39m \u001b[39mself\u001b[39m\u001b[39m.\u001b[39mexperimental_get_tracing_count()\n\u001b[1;32m    <a href='file:///home/svenk/virtualenvs/tensorforce/lib/python3.9/site-packages/tensorflow/python/eager/def_function.py?line=887'>888</a>\u001b[0m without_tracing \u001b[39m=\u001b[39m (tracing_count \u001b[39m==\u001b[39m new_tracing_count)\n",
      "File \u001b[0;32m~/virtualenvs/tensorforce/lib/python3.9/site-packages/tensorflow/python/eager/def_function.py:924\u001b[0m, in \u001b[0;36mFunction._call\u001b[0;34m(self, *args, **kwds)\u001b[0m\n\u001b[1;32m    <a href='file:///home/svenk/virtualenvs/tensorforce/lib/python3.9/site-packages/tensorflow/python/eager/def_function.py?line=920'>921</a>\u001b[0m \u001b[39mself\u001b[39m\u001b[39m.\u001b[39m_lock\u001b[39m.\u001b[39mrelease()\n\u001b[1;32m    <a href='file:///home/svenk/virtualenvs/tensorforce/lib/python3.9/site-packages/tensorflow/python/eager/def_function.py?line=921'>922</a>\u001b[0m \u001b[39m# In this case we have not created variables on the first call. So we can\u001b[39;00m\n\u001b[1;32m    <a href='file:///home/svenk/virtualenvs/tensorforce/lib/python3.9/site-packages/tensorflow/python/eager/def_function.py?line=922'>923</a>\u001b[0m \u001b[39m# run the first trace but we should fail if variables are created.\u001b[39;00m\n\u001b[0;32m--> <a href='file:///home/svenk/virtualenvs/tensorforce/lib/python3.9/site-packages/tensorflow/python/eager/def_function.py?line=923'>924</a>\u001b[0m results \u001b[39m=\u001b[39m \u001b[39mself\u001b[39;49m\u001b[39m.\u001b[39;49m_stateful_fn(\u001b[39m*\u001b[39;49margs, \u001b[39m*\u001b[39;49m\u001b[39m*\u001b[39;49mkwds)\n\u001b[1;32m    <a href='file:///home/svenk/virtualenvs/tensorforce/lib/python3.9/site-packages/tensorflow/python/eager/def_function.py?line=924'>925</a>\u001b[0m \u001b[39mif\u001b[39;00m \u001b[39mself\u001b[39m\u001b[39m.\u001b[39m_created_variables \u001b[39mand\u001b[39;00m \u001b[39mnot\u001b[39;00m ALLOW_DYNAMIC_VARIABLE_CREATION:\n\u001b[1;32m    <a href='file:///home/svenk/virtualenvs/tensorforce/lib/python3.9/site-packages/tensorflow/python/eager/def_function.py?line=925'>926</a>\u001b[0m   \u001b[39mraise\u001b[39;00m \u001b[39mValueError\u001b[39;00m(\u001b[39m\"\u001b[39m\u001b[39mCreating variables on a non-first call to a function\u001b[39m\u001b[39m\"\u001b[39m\n\u001b[1;32m    <a href='file:///home/svenk/virtualenvs/tensorforce/lib/python3.9/site-packages/tensorflow/python/eager/def_function.py?line=926'>927</a>\u001b[0m                    \u001b[39m\"\u001b[39m\u001b[39m decorated with tf.function.\u001b[39m\u001b[39m\"\u001b[39m)\n",
      "File \u001b[0;32m~/virtualenvs/tensorforce/lib/python3.9/site-packages/tensorflow/python/eager/function.py:3039\u001b[0m, in \u001b[0;36mFunction.__call__\u001b[0;34m(self, *args, **kwargs)\u001b[0m\n\u001b[1;32m   <a href='file:///home/svenk/virtualenvs/tensorforce/lib/python3.9/site-packages/tensorflow/python/eager/function.py?line=3035'>3036</a>\u001b[0m \u001b[39mwith\u001b[39;00m \u001b[39mself\u001b[39m\u001b[39m.\u001b[39m_lock:\n\u001b[1;32m   <a href='file:///home/svenk/virtualenvs/tensorforce/lib/python3.9/site-packages/tensorflow/python/eager/function.py?line=3036'>3037</a>\u001b[0m   (graph_function,\n\u001b[1;32m   <a href='file:///home/svenk/virtualenvs/tensorforce/lib/python3.9/site-packages/tensorflow/python/eager/function.py?line=3037'>3038</a>\u001b[0m    filtered_flat_args) \u001b[39m=\u001b[39m \u001b[39mself\u001b[39m\u001b[39m.\u001b[39m_maybe_define_function(args, kwargs)\n\u001b[0;32m-> <a href='file:///home/svenk/virtualenvs/tensorforce/lib/python3.9/site-packages/tensorflow/python/eager/function.py?line=3038'>3039</a>\u001b[0m \u001b[39mreturn\u001b[39;00m graph_function\u001b[39m.\u001b[39;49m_call_flat(\n\u001b[1;32m   <a href='file:///home/svenk/virtualenvs/tensorforce/lib/python3.9/site-packages/tensorflow/python/eager/function.py?line=3039'>3040</a>\u001b[0m     filtered_flat_args, captured_inputs\u001b[39m=\u001b[39;49mgraph_function\u001b[39m.\u001b[39;49mcaptured_inputs)\n",
      "File \u001b[0;32m~/virtualenvs/tensorforce/lib/python3.9/site-packages/tensorflow/python/eager/function.py:1963\u001b[0m, in \u001b[0;36mConcreteFunction._call_flat\u001b[0;34m(self, args, captured_inputs, cancellation_manager)\u001b[0m\n\u001b[1;32m   <a href='file:///home/svenk/virtualenvs/tensorforce/lib/python3.9/site-packages/tensorflow/python/eager/function.py?line=1958'>1959</a>\u001b[0m possible_gradient_type \u001b[39m=\u001b[39m gradients_util\u001b[39m.\u001b[39mPossibleTapeGradientTypes(args)\n\u001b[1;32m   <a href='file:///home/svenk/virtualenvs/tensorforce/lib/python3.9/site-packages/tensorflow/python/eager/function.py?line=1959'>1960</a>\u001b[0m \u001b[39mif\u001b[39;00m (possible_gradient_type \u001b[39m==\u001b[39m gradients_util\u001b[39m.\u001b[39mPOSSIBLE_GRADIENT_TYPES_NONE\n\u001b[1;32m   <a href='file:///home/svenk/virtualenvs/tensorforce/lib/python3.9/site-packages/tensorflow/python/eager/function.py?line=1960'>1961</a>\u001b[0m     \u001b[39mand\u001b[39;00m executing_eagerly):\n\u001b[1;32m   <a href='file:///home/svenk/virtualenvs/tensorforce/lib/python3.9/site-packages/tensorflow/python/eager/function.py?line=1961'>1962</a>\u001b[0m   \u001b[39m# No tape is watching; skip to running the function.\u001b[39;00m\n\u001b[0;32m-> <a href='file:///home/svenk/virtualenvs/tensorforce/lib/python3.9/site-packages/tensorflow/python/eager/function.py?line=1962'>1963</a>\u001b[0m   \u001b[39mreturn\u001b[39;00m \u001b[39mself\u001b[39m\u001b[39m.\u001b[39m_build_call_outputs(\u001b[39mself\u001b[39;49m\u001b[39m.\u001b[39;49m_inference_function\u001b[39m.\u001b[39;49mcall(\n\u001b[1;32m   <a href='file:///home/svenk/virtualenvs/tensorforce/lib/python3.9/site-packages/tensorflow/python/eager/function.py?line=1963'>1964</a>\u001b[0m       ctx, args, cancellation_manager\u001b[39m=\u001b[39;49mcancellation_manager))\n\u001b[1;32m   <a href='file:///home/svenk/virtualenvs/tensorforce/lib/python3.9/site-packages/tensorflow/python/eager/function.py?line=1964'>1965</a>\u001b[0m forward_backward \u001b[39m=\u001b[39m \u001b[39mself\u001b[39m\u001b[39m.\u001b[39m_select_forward_and_backward_functions(\n\u001b[1;32m   <a href='file:///home/svenk/virtualenvs/tensorforce/lib/python3.9/site-packages/tensorflow/python/eager/function.py?line=1965'>1966</a>\u001b[0m     args,\n\u001b[1;32m   <a href='file:///home/svenk/virtualenvs/tensorforce/lib/python3.9/site-packages/tensorflow/python/eager/function.py?line=1966'>1967</a>\u001b[0m     possible_gradient_type,\n\u001b[1;32m   <a href='file:///home/svenk/virtualenvs/tensorforce/lib/python3.9/site-packages/tensorflow/python/eager/function.py?line=1967'>1968</a>\u001b[0m     executing_eagerly)\n\u001b[1;32m   <a href='file:///home/svenk/virtualenvs/tensorforce/lib/python3.9/site-packages/tensorflow/python/eager/function.py?line=1968'>1969</a>\u001b[0m forward_function, args_with_tangents \u001b[39m=\u001b[39m forward_backward\u001b[39m.\u001b[39mforward()\n",
      "File \u001b[0;32m~/virtualenvs/tensorforce/lib/python3.9/site-packages/tensorflow/python/eager/function.py:591\u001b[0m, in \u001b[0;36m_EagerDefinedFunction.call\u001b[0;34m(self, ctx, args, cancellation_manager)\u001b[0m\n\u001b[1;32m    <a href='file:///home/svenk/virtualenvs/tensorforce/lib/python3.9/site-packages/tensorflow/python/eager/function.py?line=588'>589</a>\u001b[0m \u001b[39mwith\u001b[39;00m _InterpolateFunctionError(\u001b[39mself\u001b[39m):\n\u001b[1;32m    <a href='file:///home/svenk/virtualenvs/tensorforce/lib/python3.9/site-packages/tensorflow/python/eager/function.py?line=589'>590</a>\u001b[0m   \u001b[39mif\u001b[39;00m cancellation_manager \u001b[39mis\u001b[39;00m \u001b[39mNone\u001b[39;00m:\n\u001b[0;32m--> <a href='file:///home/svenk/virtualenvs/tensorforce/lib/python3.9/site-packages/tensorflow/python/eager/function.py?line=590'>591</a>\u001b[0m     outputs \u001b[39m=\u001b[39m execute\u001b[39m.\u001b[39;49mexecute(\n\u001b[1;32m    <a href='file:///home/svenk/virtualenvs/tensorforce/lib/python3.9/site-packages/tensorflow/python/eager/function.py?line=591'>592</a>\u001b[0m         \u001b[39mstr\u001b[39;49m(\u001b[39mself\u001b[39;49m\u001b[39m.\u001b[39;49msignature\u001b[39m.\u001b[39;49mname),\n\u001b[1;32m    <a href='file:///home/svenk/virtualenvs/tensorforce/lib/python3.9/site-packages/tensorflow/python/eager/function.py?line=592'>593</a>\u001b[0m         num_outputs\u001b[39m=\u001b[39;49m\u001b[39mself\u001b[39;49m\u001b[39m.\u001b[39;49m_num_outputs,\n\u001b[1;32m    <a href='file:///home/svenk/virtualenvs/tensorforce/lib/python3.9/site-packages/tensorflow/python/eager/function.py?line=593'>594</a>\u001b[0m         inputs\u001b[39m=\u001b[39;49margs,\n\u001b[1;32m    <a href='file:///home/svenk/virtualenvs/tensorforce/lib/python3.9/site-packages/tensorflow/python/eager/function.py?line=594'>595</a>\u001b[0m         attrs\u001b[39m=\u001b[39;49mattrs,\n\u001b[1;32m    <a href='file:///home/svenk/virtualenvs/tensorforce/lib/python3.9/site-packages/tensorflow/python/eager/function.py?line=595'>596</a>\u001b[0m         ctx\u001b[39m=\u001b[39;49mctx)\n\u001b[1;32m    <a href='file:///home/svenk/virtualenvs/tensorforce/lib/python3.9/site-packages/tensorflow/python/eager/function.py?line=596'>597</a>\u001b[0m   \u001b[39melse\u001b[39;00m:\n\u001b[1;32m    <a href='file:///home/svenk/virtualenvs/tensorforce/lib/python3.9/site-packages/tensorflow/python/eager/function.py?line=597'>598</a>\u001b[0m     outputs \u001b[39m=\u001b[39m execute\u001b[39m.\u001b[39mexecute_with_cancellation(\n\u001b[1;32m    <a href='file:///home/svenk/virtualenvs/tensorforce/lib/python3.9/site-packages/tensorflow/python/eager/function.py?line=598'>599</a>\u001b[0m         \u001b[39mstr\u001b[39m(\u001b[39mself\u001b[39m\u001b[39m.\u001b[39msignature\u001b[39m.\u001b[39mname),\n\u001b[1;32m    <a href='file:///home/svenk/virtualenvs/tensorforce/lib/python3.9/site-packages/tensorflow/python/eager/function.py?line=599'>600</a>\u001b[0m         num_outputs\u001b[39m=\u001b[39m\u001b[39mself\u001b[39m\u001b[39m.\u001b[39m_num_outputs,\n\u001b[0;32m   (...)\u001b[0m\n\u001b[1;32m    <a href='file:///home/svenk/virtualenvs/tensorforce/lib/python3.9/site-packages/tensorflow/python/eager/function.py?line=602'>603</a>\u001b[0m         ctx\u001b[39m=\u001b[39mctx,\n\u001b[1;32m    <a href='file:///home/svenk/virtualenvs/tensorforce/lib/python3.9/site-packages/tensorflow/python/eager/function.py?line=603'>604</a>\u001b[0m         cancellation_manager\u001b[39m=\u001b[39mcancellation_manager)\n",
      "File \u001b[0;32m~/virtualenvs/tensorforce/lib/python3.9/site-packages/tensorflow/python/eager/execute.py:59\u001b[0m, in \u001b[0;36mquick_execute\u001b[0;34m(op_name, num_outputs, inputs, attrs, ctx, name)\u001b[0m\n\u001b[1;32m     <a href='file:///home/svenk/virtualenvs/tensorforce/lib/python3.9/site-packages/tensorflow/python/eager/execute.py?line=56'>57</a>\u001b[0m \u001b[39mtry\u001b[39;00m:\n\u001b[1;32m     <a href='file:///home/svenk/virtualenvs/tensorforce/lib/python3.9/site-packages/tensorflow/python/eager/execute.py?line=57'>58</a>\u001b[0m   ctx\u001b[39m.\u001b[39mensure_initialized()\n\u001b[0;32m---> <a href='file:///home/svenk/virtualenvs/tensorforce/lib/python3.9/site-packages/tensorflow/python/eager/execute.py?line=58'>59</a>\u001b[0m   tensors \u001b[39m=\u001b[39m pywrap_tfe\u001b[39m.\u001b[39;49mTFE_Py_Execute(ctx\u001b[39m.\u001b[39;49m_handle, device_name, op_name,\n\u001b[1;32m     <a href='file:///home/svenk/virtualenvs/tensorforce/lib/python3.9/site-packages/tensorflow/python/eager/execute.py?line=59'>60</a>\u001b[0m                                       inputs, attrs, num_outputs)\n\u001b[1;32m     <a href='file:///home/svenk/virtualenvs/tensorforce/lib/python3.9/site-packages/tensorflow/python/eager/execute.py?line=60'>61</a>\u001b[0m \u001b[39mexcept\u001b[39;00m core\u001b[39m.\u001b[39m_NotOkStatusException \u001b[39mas\u001b[39;00m e:\n\u001b[1;32m     <a href='file:///home/svenk/virtualenvs/tensorforce/lib/python3.9/site-packages/tensorflow/python/eager/execute.py?line=61'>62</a>\u001b[0m   \u001b[39mif\u001b[39;00m name \u001b[39mis\u001b[39;00m \u001b[39mnot\u001b[39;00m \u001b[39mNone\u001b[39;00m:\n",
      "\u001b[0;31mKeyboardInterrupt\u001b[0m: "
     ]
    }
   ],
   "source": [
    "runner.run(num_episodes=500)\n",
    "runner.close()"
   ]
  },
  {
   "cell_type": "code",
   "execution_count": null,
   "metadata": {},
   "outputs": [],
   "source": []
  }
 ],
 "metadata": {
  "interpreter": {
   "hash": "0338d86274c1c6b1188772c0f97a7685f83d930028d9d1e47d4bafb465479f9d"
  },
  "kernelspec": {
   "display_name": "Python 3.9.5 ('deep-rl')",
   "language": "python",
   "name": "python3"
  },
  "language_info": {
   "codemirror_mode": {
    "name": "ipython",
    "version": 3
   },
   "file_extension": ".py",
   "mimetype": "text/x-python",
   "name": "python",
   "nbconvert_exporter": "python",
   "pygments_lexer": "ipython3",
   "version": "3.9.5"
  },
  "orig_nbformat": 4
 },
 "nbformat": 4,
 "nbformat_minor": 2
}
