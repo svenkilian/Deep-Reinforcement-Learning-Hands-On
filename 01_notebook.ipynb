{
 "cells": [
  {
   "cell_type": "code",
   "execution_count": 1,
   "metadata": {},
   "outputs": [],
   "source": [
    "import torch\n",
    "import torch.nn as nn\n",
    "import numpy as np\n",
    "import pandas as pd\n",
    "import plotly.graph_objects as go\n",
    "import collections\n",
    "import gym\n",
    "import matplotlib.pyplot as plt\n",
    "from gym_anytrading.datasets import STOCKS_GOOGL\n",
    "import ptan\n",
    "from typing import List, Optional, Tuple, Any"
   ]
  },
  {
   "cell_type": "markdown",
   "metadata": {},
   "source": [
    "# Check out gym_anytrading package for creating trading environment"
   ]
  },
  {
   "cell_type": "markdown",
   "metadata": {},
   "source": [
    "## Check invironment properties"
   ]
  },
  {
   "cell_type": "code",
   "execution_count": 7,
   "metadata": {},
   "outputs": [
    {
     "name": "stdout",
     "output_type": "stream",
     "text": [
      "custom_env information:\n",
      "> shape: (5, 2)\n",
      "> df.shape: (2335, 6)\n",
      "> prices.shape: (295,)\n",
      "> signal_features.shape: (295, 2)\n",
      "> max_possible_profit: 5.19197248193094\n"
     ]
    }
   ],
   "source": [
    "custom_env = gym.make(\n",
    "        'stocks-v0',\n",
    "        df = STOCKS_GOOGL,\n",
    "        window_size = 5,\n",
    "        frame_bound = (10, 300)\n",
    "    )\n",
    "\n",
    "print(\"custom_env information:\")\n",
    "print(\"> shape:\", custom_env.shape)\n",
    "print(\"> df.shape:\", custom_env.df.shape)\n",
    "print(\"> prices.shape:\", custom_env.prices.shape)\n",
    "print(\"> signal_features.shape:\", custom_env.signal_features.shape)\n",
    "print(\"> max_possible_profit:\", custom_env.max_possible_profit())"
   ]
  },
  {
   "cell_type": "code",
   "execution_count": 8,
   "metadata": {},
   "outputs": [
    {
     "data": {
      "text/html": [
       "<div>\n",
       "<style scoped>\n",
       "    .dataframe tbody tr th:only-of-type {\n",
       "        vertical-align: middle;\n",
       "    }\n",
       "\n",
       "    .dataframe tbody tr th {\n",
       "        vertical-align: top;\n",
       "    }\n",
       "\n",
       "    .dataframe thead th {\n",
       "        text-align: right;\n",
       "    }\n",
       "</style>\n",
       "<table border=\"1\" class=\"dataframe\">\n",
       "  <thead>\n",
       "    <tr style=\"text-align: right;\">\n",
       "      <th></th>\n",
       "      <th>Open</th>\n",
       "      <th>High</th>\n",
       "      <th>Low</th>\n",
       "      <th>Close</th>\n",
       "      <th>Adj Close</th>\n",
       "      <th>Volume</th>\n",
       "    </tr>\n",
       "    <tr>\n",
       "      <th>Date</th>\n",
       "      <th></th>\n",
       "      <th></th>\n",
       "      <th></th>\n",
       "      <th></th>\n",
       "      <th></th>\n",
       "      <th></th>\n",
       "    </tr>\n",
       "  </thead>\n",
       "  <tbody>\n",
       "    <tr>\n",
       "      <th>2009-05-22</th>\n",
       "      <td>198.528534</td>\n",
       "      <td>199.524521</td>\n",
       "      <td>196.196198</td>\n",
       "      <td>196.946945</td>\n",
       "      <td>196.946945</td>\n",
       "      <td>3433700</td>\n",
       "    </tr>\n",
       "    <tr>\n",
       "      <th>2009-05-26</th>\n",
       "      <td>196.171173</td>\n",
       "      <td>202.702698</td>\n",
       "      <td>195.195190</td>\n",
       "      <td>202.382385</td>\n",
       "      <td>202.382385</td>\n",
       "      <td>6202700</td>\n",
       "    </tr>\n",
       "    <tr>\n",
       "      <th>2009-05-27</th>\n",
       "      <td>203.023026</td>\n",
       "      <td>206.136139</td>\n",
       "      <td>202.607605</td>\n",
       "      <td>202.982986</td>\n",
       "      <td>202.982986</td>\n",
       "      <td>6062500</td>\n",
       "    </tr>\n",
       "    <tr>\n",
       "      <th>2009-05-28</th>\n",
       "      <td>204.544540</td>\n",
       "      <td>206.016022</td>\n",
       "      <td>202.507507</td>\n",
       "      <td>205.405411</td>\n",
       "      <td>205.405411</td>\n",
       "      <td>5332200</td>\n",
       "    </tr>\n",
       "    <tr>\n",
       "      <th>2009-05-29</th>\n",
       "      <td>206.261261</td>\n",
       "      <td>208.823822</td>\n",
       "      <td>205.555557</td>\n",
       "      <td>208.823822</td>\n",
       "      <td>208.823822</td>\n",
       "      <td>5291100</td>\n",
       "    </tr>\n",
       "  </tbody>\n",
       "</table>\n",
       "</div>"
      ],
      "text/plain": [
       "                  Open        High         Low       Close   Adj Close  \\\n",
       "Date                                                                     \n",
       "2009-05-22  198.528534  199.524521  196.196198  196.946945  196.946945   \n",
       "2009-05-26  196.171173  202.702698  195.195190  202.382385  202.382385   \n",
       "2009-05-27  203.023026  206.136139  202.607605  202.982986  202.982986   \n",
       "2009-05-28  204.544540  206.016022  202.507507  205.405411  205.405411   \n",
       "2009-05-29  206.261261  208.823822  205.555557  208.823822  208.823822   \n",
       "\n",
       "             Volume  \n",
       "Date                 \n",
       "2009-05-22  3433700  \n",
       "2009-05-26  6202700  \n",
       "2009-05-27  6062500  \n",
       "2009-05-28  5332200  \n",
       "2009-05-29  5291100  "
      ]
     },
     "execution_count": 8,
     "metadata": {},
     "output_type": "execute_result"
    }
   ],
   "source": [
    "custom_env.df.head(5)"
   ]
  },
  {
   "cell_type": "markdown",
   "metadata": {},
   "source": [
    "## Randomly sample from environment"
   ]
  },
  {
   "cell_type": "code",
   "execution_count": 10,
   "metadata": {},
   "outputs": [
    {
     "name": "stdout",
     "output_type": "stream",
     "text": [
      "Info: {'total_reward': 57.48247399999994, 'total_profit': 0.3916605245591806, 'position': 0}\n",
      "n_steps: 289\n"
     ]
    },
    {
     "data": {
      "image/png": "[encoded data removed]",
      "text/plain": [
       "<Figure size 432x288 with 1 Axes>"
      ]
     },
     "metadata": {
      "needs_background": "light"
     },
     "output_type": "display_data"
    }
   ],
   "source": [
    "observation = custom_env.reset()\n",
    "n_steps = 0\n",
    "while True:\n",
    "    action = custom_env.action_space.sample()\n",
    "    observation, reward, done, info = custom_env.step(action)\n",
    "    # print(observation)\n",
    "    n_steps += 1\n",
    "    if done:\n",
    "        print(\"Info:\", info)\n",
    "        print(f'n_steps: {n_steps}')\n",
    "        break\n",
    "\n",
    "plt.cla()\n",
    "custom_env.render_all()\n",
    "plt.show()"
   ]
  },
  {
   "cell_type": "markdown",
   "metadata": {},
   "source": [
    "# Implement custom gym environment"
   ]
  },
  {
   "cell_type": "code",
   "execution_count": 12,
   "metadata": {},
   "outputs": [],
   "source": [
    "class ToyEnv(gym.Env): \n",
    "    def __init__(self): \n",
    "        super(ToyEnv, self).__init__()\n",
    "        self.observation_space = gym.spaces.Discrete(n=5) \n",
    "        self.action_space = gym.spaces.Discrete(n=3)\n",
    "        self.step_index = 0 \n",
    "    \n",
    "    def reset(self): \n",
    "        self.step_index = 0 \n",
    "        return self.step_index \n",
    "        \n",
    "    def step(self, action): \n",
    "        is_done = self.step_index == 10 \n",
    "        if is_done: \n",
    "            return (\n",
    "                self.step_index % self.observation_space.n, \n",
    "                0.0, \n",
    "                is_done, \n",
    "                {}\n",
    "            )\n",
    "        self.step_index += 1 \n",
    "        return (\n",
    "            self.step_index % self.observation_space.n, \n",
    "            float(action), \n",
    "            self.step_index == 10, \n",
    "            {}\n",
    "        )\n"
   ]
  },
  {
   "cell_type": "code",
   "execution_count": 14,
   "metadata": {},
   "outputs": [],
   "source": [
    "class DullAgent(ptan.agent.BaseAgent): \n",
    "    \"\"\" Agent always returns the fixed action \"\"\" \n",
    "    def __init__(self, action: int): \n",
    "        self.action = action \n",
    "    \n",
    "    def __call__(self, observations: List[Any], state: Optional[List] = None) -> Tuple[List[int], Optional[List]]: \n",
    "        return [self.action for _ in observations], state\n"
   ]
  },
  {
   "cell_type": "code",
   "execution_count": 23,
   "metadata": {},
   "outputs": [],
   "source": [
    "env = ToyEnv()\n",
    "agent = DullAgent(action=1)\n",
    "\n",
    "exp_source = ptan.experience.ExperienceSourceFirstLast(\n",
    "    env=[env],\n",
    "    agent=agent,\n",
    "    steps_count=1,\n",
    "    gamma=1.0\n",
    ")\n",
    "buffer = ptan.experience.ExperienceReplayBuffer(exp_source, 10)"
   ]
  },
  {
   "cell_type": "code",
   "execution_count": 18,
   "metadata": {},
   "outputs": [
    {
     "name": "stdout",
     "output_type": "stream",
     "text": [
      "ExperienceFirstLast(state=0, action=1, reward=1.0, last_state=1)\n",
      "\n",
      "ExperienceFirstLast(state=1, action=1, reward=1.0, last_state=2)\n",
      "\n",
      "ExperienceFirstLast(state=2, action=1, reward=1.0, last_state=3)\n",
      "\n",
      "ExperienceFirstLast(state=3, action=1, reward=1.0, last_state=4)\n",
      "\n",
      "ExperienceFirstLast(state=4, action=1, reward=1.0, last_state=0)\n",
      "\n",
      "ExperienceFirstLast(state=0, action=1, reward=1.0, last_state=1)\n",
      "\n",
      "ExperienceFirstLast(state=1, action=1, reward=1.0, last_state=2)\n",
      "\n",
      "ExperienceFirstLast(state=2, action=1, reward=1.0, last_state=3)\n",
      "\n",
      "ExperienceFirstLast(state=3, action=1, reward=1.0, last_state=4)\n",
      "\n",
      "ExperienceFirstLast(state=4, action=1, reward=1.0, last_state=None)\n",
      "\n"
     ]
    }
   ],
   "source": [
    "for idx, exp in enumerate(exp_source):\n",
    "    if idx >= 10:\n",
    "        break\n",
    "    # print(f'{idx}: ({len(exp)} steps)')\n",
    "    # for step in exp:\n",
    "    #     print(step)\n",
    "    print(exp)\n",
    "    print()"
   ]
  },
  {
   "cell_type": "code",
   "execution_count": 27,
   "metadata": {},
   "outputs": [
    {
     "name": "stdout",
     "output_type": "stream",
     "text": [
      "0\n",
      "[ExperienceFirstLast(state=0, action=1, reward=1.0, last_state=1)]\n",
      "\n",
      "1\n",
      "[ExperienceFirstLast(state=0, action=1, reward=1.0, last_state=1), ExperienceFirstLast(state=1, action=1, reward=1.0, last_state=2)]\n",
      "\n",
      "2\n",
      "[ExperienceFirstLast(state=0, action=1, reward=1.0, last_state=1), ExperienceFirstLast(state=1, action=1, reward=1.0, last_state=2), ExperienceFirstLast(state=2, action=1, reward=1.0, last_state=3)]\n",
      "\n",
      "3\n",
      "[ExperienceFirstLast(state=0, action=1, reward=1.0, last_state=1), ExperienceFirstLast(state=1, action=1, reward=1.0, last_state=2), ExperienceFirstLast(state=2, action=1, reward=1.0, last_state=3), ExperienceFirstLast(state=3, action=1, reward=1.0, last_state=4)]\n",
      "\n"
     ]
    }
   ],
   "source": [
    "buffer.buffer.clear()\n",
    "for i in range(4):\n",
    "    print(f'{i}')\n",
    "    buffer.populate(1)\n",
    "    print(buffer.buffer)\n",
    "    print()"
   ]
  },
  {
   "cell_type": "code",
   "execution_count": 38,
   "metadata": {},
   "outputs": [
    {
     "data": {
      "text/plain": [
       "[ExperienceFirstLast(state=1, action=1, reward=1.0, last_state=2),\n",
       " ExperienceFirstLast(state=3, action=1, reward=1.0, last_state=4)]"
      ]
     },
     "execution_count": 38,
     "metadata": {},
     "output_type": "execute_result"
    }
   ],
   "source": [
    "buffer.sample(2)"
   ]
  },
  {
   "cell_type": "markdown",
   "metadata": {},
   "source": [
    "# Preprocess sample (YNDX) data from chapter 8"
   ]
  },
  {
   "cell_type": "code",
   "execution_count": null,
   "metadata": {},
   "outputs": [],
   "source": [
    "def preprocess_raw(filepath: str, save_hdf=False):\n",
    "    stock_data = pd.read_csv(filepath, sep=',')\n",
    "    stock_data.columns = [old_n.replace('<', '').replace('>', '').lower() for old_n in stock_data.columns]\n",
    "    stock_data['date'] = stock_data['date'].astype('str')\n",
    "    stock_data['time'] = stock_data['time'].astype('str')\n",
    "    # stock_data.date = pd.to_datetime(stock_data.date, format=r'%Y%m%d')\n",
    "    stock_data['datetime'] = stock_data.apply(lambda x: pd.to_datetime(x['date'] + x['time'], format=r'%Y%m%d%H%M%S'), axis=1)\n",
    "    stock_data.drop(columns=['date', 'time'], inplace=True)\n",
    "    stock_data = stock_data.set_index('datetime')\n",
    "    if save_hdf:\n",
    "        stock_data.to_hdf(f'{filepath.split(\".csv\")[0]}.hdf', key='df')\n",
    "\n",
    "    return stock_data"
   ]
  },
  {
   "cell_type": "code",
   "execution_count": null,
   "metadata": {},
   "outputs": [],
   "source": [
    "# stock_data = preprocess_raw('Chapter08/data/YNDX_150101_151231.csv', save_hdf=True)\n",
    "# stock_data = preprocess_raw('Chapter08/data/YNDX_160101_161231.csv', save_hdf=True)"
   ]
  },
  {
   "cell_type": "code",
   "execution_count": 41,
   "metadata": {},
   "outputs": [
    {
     "data": {
      "text/html": [
       "<div>\n",
       "<style scoped>\n",
       "    .dataframe tbody tr th:only-of-type {\n",
       "        vertical-align: middle;\n",
       "    }\n",
       "\n",
       "    .dataframe tbody tr th {\n",
       "        vertical-align: top;\n",
       "    }\n",
       "\n",
       "    .dataframe thead th {\n",
       "        text-align: right;\n",
       "    }\n",
       "</style>\n",
       "<table border=\"1\" class=\"dataframe\">\n",
       "  <thead>\n",
       "    <tr style=\"text-align: right;\">\n",
       "      <th></th>\n",
       "      <th>open</th>\n",
       "      <th>high</th>\n",
       "      <th>low</th>\n",
       "      <th>close</th>\n",
       "      <th>vol</th>\n",
       "    </tr>\n",
       "    <tr>\n",
       "      <th>datetime</th>\n",
       "      <th></th>\n",
       "      <th></th>\n",
       "      <th></th>\n",
       "      <th></th>\n",
       "      <th></th>\n",
       "    </tr>\n",
       "  </thead>\n",
       "  <tbody>\n",
       "    <tr>\n",
       "      <th>2015-01-05 10:01:00</th>\n",
       "      <td>1064.0</td>\n",
       "      <td>1064.0</td>\n",
       "      <td>1064.0</td>\n",
       "      <td>1064.0</td>\n",
       "      <td>0</td>\n",
       "    </tr>\n",
       "    <tr>\n",
       "      <th>2015-01-05 10:02:00</th>\n",
       "      <td>1064.0</td>\n",
       "      <td>1064.0</td>\n",
       "      <td>1064.0</td>\n",
       "      <td>1064.0</td>\n",
       "      <td>0</td>\n",
       "    </tr>\n",
       "    <tr>\n",
       "      <th>2015-01-05 10:03:00</th>\n",
       "      <td>1064.0</td>\n",
       "      <td>1064.0</td>\n",
       "      <td>1064.0</td>\n",
       "      <td>1064.0</td>\n",
       "      <td>0</td>\n",
       "    </tr>\n",
       "    <tr>\n",
       "      <th>2015-01-05 10:04:00</th>\n",
       "      <td>1064.0</td>\n",
       "      <td>1064.0</td>\n",
       "      <td>1064.0</td>\n",
       "      <td>1064.0</td>\n",
       "      <td>0</td>\n",
       "    </tr>\n",
       "    <tr>\n",
       "      <th>2015-01-05 10:05:00</th>\n",
       "      <td>1064.0</td>\n",
       "      <td>1064.0</td>\n",
       "      <td>1064.0</td>\n",
       "      <td>1064.0</td>\n",
       "      <td>0</td>\n",
       "    </tr>\n",
       "  </tbody>\n",
       "</table>\n",
       "</div>"
      ],
      "text/plain": [
       "                       open    high     low   close  vol\n",
       "datetime                                                \n",
       "2015-01-05 10:01:00  1064.0  1064.0  1064.0  1064.0    0\n",
       "2015-01-05 10:02:00  1064.0  1064.0  1064.0  1064.0    0\n",
       "2015-01-05 10:03:00  1064.0  1064.0  1064.0  1064.0    0\n",
       "2015-01-05 10:04:00  1064.0  1064.0  1064.0  1064.0    0\n",
       "2015-01-05 10:05:00  1064.0  1064.0  1064.0  1064.0    0"
      ]
     },
     "execution_count": 41,
     "metadata": {},
     "output_type": "execute_result"
    }
   ],
   "source": [
    "stock_data = pd.read_hdf('Chapter08/data/YNDX_150101_151231.hdf')\n",
    "stock_data.head(5)"
   ]
  },
  {
   "cell_type": "markdown",
   "metadata": {},
   "source": [
    "## Plot interactive candlestick graph"
   ]
  },
  {
   "cell_type": "code",
   "execution_count": 44,
   "metadata": {},
   "outputs": [],
   "source": [
    "def plot_interactive():\n",
    "    fig = go.Figure(\n",
    "        data=[\n",
    "            go.Candlestick(\n",
    "                x=stock_data.index,\n",
    "                open=stock_data['open'],\n",
    "                high=stock_data['high'],\n",
    "                low=stock_data['low'],\n",
    "                close=stock_data['close']\n",
    "            )\n",
    "        ],\n",
    "    )\n",
    "\n",
    "    fig.update_layout(xaxis_rangeslider_visible=False)\n",
    "    fig.show()\n",
    "\n",
    "# plot_interactive()"
   ]
  },
  {
   "cell_type": "markdown",
   "metadata": {},
   "source": [
    "# Tensorforce example code"
   ]
  },
  {
   "cell_type": "code",
   "execution_count": 45,
   "metadata": {},
   "outputs": [
    {
     "ename": "ModuleNotFoundError",
     "evalue": "No module named 'tensorforce'",
     "output_type": "error",
     "traceback": [
      "\u001b[0;31m---------------------------------------------------------------------------\u001b[0m",
      "\u001b[0;31mModuleNotFoundError\u001b[0m                       Traceback (most recent call last)",
      "\u001b[1;32m/home/svenk/Projects/Deep-Reinforcement-Learning-Hands-On/notebook.ipynb Cell 21'\u001b[0m in \u001b[0;36m<cell line: 1>\u001b[0;34m()\u001b[0m\n\u001b[0;32m----> <a href='vscode-notebook-cell://wsl%2Bubuntu-20.04/home/svenk/Projects/Deep-Reinforcement-Learning-Hands-On/notebook.ipynb#ch0000015vscode-remote?line=0'>1</a>\u001b[0m \u001b[39mfrom\u001b[39;00m \u001b[39mtensorforce\u001b[39;00m \u001b[39mimport\u001b[39;00m Agent, Environment\n\u001b[1;32m      <a href='vscode-notebook-cell://wsl%2Bubuntu-20.04/home/svenk/Projects/Deep-Reinforcement-Learning-Hands-On/notebook.ipynb#ch0000015vscode-remote?line=2'>3</a>\u001b[0m \u001b[39m# Pre-defined or custom environment\u001b[39;00m\n\u001b[1;32m      <a href='vscode-notebook-cell://wsl%2Bubuntu-20.04/home/svenk/Projects/Deep-Reinforcement-Learning-Hands-On/notebook.ipynb#ch0000015vscode-remote?line=3'>4</a>\u001b[0m environment \u001b[39m=\u001b[39m Environment\u001b[39m.\u001b[39mcreate(\n\u001b[1;32m      <a href='vscode-notebook-cell://wsl%2Bubuntu-20.04/home/svenk/Projects/Deep-Reinforcement-Learning-Hands-On/notebook.ipynb#ch0000015vscode-remote?line=4'>5</a>\u001b[0m     environment\u001b[39m=\u001b[39m\u001b[39m'\u001b[39m\u001b[39mgym\u001b[39m\u001b[39m'\u001b[39m, level\u001b[39m=\u001b[39m\u001b[39m'\u001b[39m\u001b[39mCartPole-v0\u001b[39m\u001b[39m'\u001b[39m, max_episode_timesteps\u001b[39m=\u001b[39m\u001b[39m500\u001b[39m\n\u001b[1;32m      <a href='vscode-notebook-cell://wsl%2Bubuntu-20.04/home/svenk/Projects/Deep-Reinforcement-Learning-Hands-On/notebook.ipynb#ch0000015vscode-remote?line=5'>6</a>\u001b[0m )\n",
      "\u001b[0;31mModuleNotFoundError\u001b[0m: No module named 'tensorforce'"
     ]
    }
   ],
   "source": [
    "from tensorforce import Agent, Environment\n",
    "\n",
    "# Pre-defined or custom environment\n",
    "environment = Environment.create(\n",
    "    environment='gym', level='CartPole-v0', max_episode_timesteps=500\n",
    ")\n",
    "\n",
    "# Instantiate a Tensorforce agent\n",
    "agent = Agent.create(\n",
    "    agent='tensorforce',\n",
    "    environment=environment,  # alternatively: states, actions, (max_episode_timesteps)\n",
    "    memory=10000,\n",
    "    update=dict(unit='timesteps', batch_size=64),\n",
    "    optimizer=dict(type='adam', learning_rate=3e-4),\n",
    "    policy=dict(network='auto'),\n",
    "    objective='policy_gradient',\n",
    "    reward_estimation=dict(horizon=20)\n",
    ")\n",
    "\n",
    "# Train for 300 episodes\n",
    "for _ in range(300):\n",
    "\n",
    "    # Initialize episode\n",
    "    states = environment.reset()\n",
    "    terminal = False\n",
    "\n",
    "    while not terminal:\n",
    "        # Episode timestep\n",
    "        actions = agent.act(states=states)\n",
    "        states, terminal, reward = environment.execute(actions=actions)\n",
    "        agent.observe(terminal=terminal, reward=reward)\n",
    "\n",
    "agent.close()\n",
    "environment.close()"
   ]
  },
  {
   "cell_type": "code",
   "execution_count": null,
   "metadata": {},
   "outputs": [],
   "source": []
  }
 ],
 "metadata": {
  "interpreter": {
   "hash": "0338d86274c1c6b1188772c0f97a7685f83d930028d9d1e47d4bafb465479f9d"
  },
  "kernelspec": {
   "display_name": "Python 3.9.5 ('deep-rl')",
   "language": "python",
   "name": "python3"
  },
  "language_info": {
   "codemirror_mode": {
    "name": "ipython",
    "version": 3
   },
   "file_extension": ".py",
   "mimetype": "text/x-python",
   "name": "python",
   "nbconvert_exporter": "python",
   "pygments_lexer": "ipython3",
   "version": "3.9.5"
  },
  "orig_nbformat": 4
 },
 "nbformat": 4,
 "nbformat_minor": 2
}
