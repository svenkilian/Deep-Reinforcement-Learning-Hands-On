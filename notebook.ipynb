{
 "cells": [
  {
   "cell_type": "code",
   "execution_count": 1,
   "metadata": {},
   "outputs": [],
   "source": [
    "import torch\n",
    "import torch.nn as nn\n",
    "import numpy as np\n",
    "import pandas as pd\n",
    "import plotly.graph_objects as go\n",
    "import collections\n",
    "import gym\n",
    "import matplotlib.pyplot as plt\n",
    "from gym_anytrading.datasets import STOCKS_GOOGL\n",
    "import ptan\n",
    "from typing import List, Optional, Tuple, Any"
   ]
  },
  {
   "cell_type": "code",
   "execution_count": 2,
   "metadata": {},
   "outputs": [
    {
     "name": "stdout",
     "output_type": "stream",
     "text": [
      "custom_env information:\n",
      "> shape: (10, 2)\n",
      "> df.shape: (2335, 6)\n",
      "> prices.shape: (300,)\n",
      "> signal_features.shape: (300, 2)\n",
      "> max_possible_profit: 5.19197248193094\n"
     ]
    }
   ],
   "source": [
    "custom_env = gym.make(\n",
    "        'stocks-v0',\n",
    "        df = STOCKS_GOOGL,\n",
    "        window_size = 10,\n",
    "        frame_bound = (10, 300)\n",
    "    )\n",
    "\n",
    "print(\"custom_env information:\")\n",
    "print(\"> shape:\", custom_env.shape)\n",
    "print(\"> df.shape:\", custom_env.df.shape)\n",
    "print(\"> prices.shape:\", custom_env.prices.shape)\n",
    "print(\"> signal_features.shape:\", custom_env.signal_features.shape)\n",
    "print(\"> max_possible_profit:\", custom_env.max_possible_profit())"
   ]
  },
  {
   "cell_type": "code",
   "execution_count": 3,
   "metadata": {},
   "outputs": [
    {
     "data": {
      "text/html": [
       "<div>\n",
       "<style scoped>\n",
       "    .dataframe tbody tr th:only-of-type {\n",
       "        vertical-align: middle;\n",
       "    }\n",
       "\n",
       "    .dataframe tbody tr th {\n",
       "        vertical-align: top;\n",
       "    }\n",
       "\n",
       "    .dataframe thead th {\n",
       "        text-align: right;\n",
       "    }\n",
       "</style>\n",
       "<table border=\"1\" class=\"dataframe\">\n",
       "  <thead>\n",
       "    <tr style=\"text-align: right;\">\n",
       "      <th></th>\n",
       "      <th>Open</th>\n",
       "      <th>High</th>\n",
       "      <th>Low</th>\n",
       "      <th>Close</th>\n",
       "      <th>Adj Close</th>\n",
       "      <th>Volume</th>\n",
       "    </tr>\n",
       "    <tr>\n",
       "      <th>Date</th>\n",
       "      <th></th>\n",
       "      <th></th>\n",
       "      <th></th>\n",
       "      <th></th>\n",
       "      <th></th>\n",
       "      <th></th>\n",
       "    </tr>\n",
       "  </thead>\n",
       "  <tbody>\n",
       "    <tr>\n",
       "      <th>2009-05-22</th>\n",
       "      <td>198.528534</td>\n",
       "      <td>199.524521</td>\n",
       "      <td>196.196198</td>\n",
       "      <td>196.946945</td>\n",
       "      <td>196.946945</td>\n",
       "      <td>3433700</td>\n",
       "    </tr>\n",
       "    <tr>\n",
       "      <th>2009-05-26</th>\n",
       "      <td>196.171173</td>\n",
       "      <td>202.702698</td>\n",
       "      <td>195.195190</td>\n",
       "      <td>202.382385</td>\n",
       "      <td>202.382385</td>\n",
       "      <td>6202700</td>\n",
       "    </tr>\n",
       "    <tr>\n",
       "      <th>2009-05-27</th>\n",
       "      <td>203.023026</td>\n",
       "      <td>206.136139</td>\n",
       "      <td>202.607605</td>\n",
       "      <td>202.982986</td>\n",
       "      <td>202.982986</td>\n",
       "      <td>6062500</td>\n",
       "    </tr>\n",
       "    <tr>\n",
       "      <th>2009-05-28</th>\n",
       "      <td>204.544540</td>\n",
       "      <td>206.016022</td>\n",
       "      <td>202.507507</td>\n",
       "      <td>205.405411</td>\n",
       "      <td>205.405411</td>\n",
       "      <td>5332200</td>\n",
       "    </tr>\n",
       "    <tr>\n",
       "      <th>2009-05-29</th>\n",
       "      <td>206.261261</td>\n",
       "      <td>208.823822</td>\n",
       "      <td>205.555557</td>\n",
       "      <td>208.823822</td>\n",
       "      <td>208.823822</td>\n",
       "      <td>5291100</td>\n",
       "    </tr>\n",
       "  </tbody>\n",
       "</table>\n",
       "</div>"
      ],
      "text/plain": [
       "                  Open        High         Low       Close   Adj Close  \\\n",
       "Date                                                                     \n",
       "2009-05-22  198.528534  199.524521  196.196198  196.946945  196.946945   \n",
       "2009-05-26  196.171173  202.702698  195.195190  202.382385  202.382385   \n",
       "2009-05-27  203.023026  206.136139  202.607605  202.982986  202.982986   \n",
       "2009-05-28  204.544540  206.016022  202.507507  205.405411  205.405411   \n",
       "2009-05-29  206.261261  208.823822  205.555557  208.823822  208.823822   \n",
       "\n",
       "             Volume  \n",
       "Date                 \n",
       "2009-05-22  3433700  \n",
       "2009-05-26  6202700  \n",
       "2009-05-27  6062500  \n",
       "2009-05-28  5332200  \n",
       "2009-05-29  5291100  "
      ]
     },
     "execution_count": 3,
     "metadata": {},
     "output_type": "execute_result"
    }
   ],
   "source": [
    "custom_env.df.head(5)"
   ]
  },
  {
   "cell_type": "code",
   "execution_count": 4,
   "metadata": {},
   "outputs": [
    {
     "name": "stdout",
     "output_type": "stream",
     "text": [
      "[[202.382385   5.43544 ]\n",
      " [202.982986   0.600601]\n",
      " [205.405411   2.422425]\n",
      " [208.823822   3.418411]\n",
      " [213.4935     4.669678]\n",
      " [214.414413   0.920913]\n",
      " [216.041046   1.626633]\n",
      " [220.360367   4.319321]\n",
      " [222.382385   2.022018]\n",
      " [219.604599  -2.777786]]\n"
     ]
    },
    {
     "data": {
      "image/png": "[encoded data removed]",
      "text/plain": [
       "<Figure size 432x288 with 1 Axes>"
      ]
     },
     "metadata": {
      "needs_background": "light"
     },
     "output_type": "display_data"
    }
   ],
   "source": [
    "observation = custom_env.reset()\n",
    "n_steps = 0\n",
    "while True:\n",
    "    action = custom_env.action_space.sample()\n",
    "    observation, reward, done, info = custom_env.step(action)\n",
    "    print(observation)\n",
    "    break\n",
    "    n_steps += 1\n",
    "    if done:\n",
    "        print(\"Info:\", info)\n",
    "        print(f'n_steps: {n_steps}')\n",
    "        break\n",
    "\n",
    "plt.cla()\n",
    "custom_env.render_all()\n",
    "plt.show()"
   ]
  },
  {
   "cell_type": "code",
   "execution_count": 5,
   "metadata": {},
   "outputs": [],
   "source": [
    "class ToyEnv(gym.Env): \n",
    "    def __init__(self): \n",
    "        super(ToyEnv, self).__init__()\n",
    "        self.observation_space = gym.spaces.Discrete(n=5) \n",
    "        self.action_space = gym.spaces.Discrete(n=3)\n",
    "        self.step_index = 0 \n",
    "    \n",
    "    def reset(self): \n",
    "        self.step_index = 0 \n",
    "        return self.step_index \n",
    "        \n",
    "    def step(self, action): \n",
    "        is_done = self.step_index == 10 \n",
    "        if is_done: \n",
    "            return (\n",
    "                self.step_index % self.observation_space.n, \n",
    "                0.0, \n",
    "                is_done, \n",
    "                {}\n",
    "            )\n",
    "        self.step_index += 1 \n",
    "        return (\n",
    "            self.step_index % self.observation_space.n, \n",
    "            float(action), \n",
    "            self.step_index == 10, \n",
    "            {}\n",
    "        )\n"
   ]
  },
  {
   "cell_type": "code",
   "execution_count": null,
   "metadata": {},
   "outputs": [],
   "source": [
    "class DullAgent(ptan.agent.BaseAgent): \n",
    "    \"\"\" Agent always returns the fixed action \"\"\" \n",
    "    def __init__(self, action: int): \n",
    "        self.action = action \n",
    "    \n",
    "    def __call__(self, observations: List[Any], state: Optional[List] = None) -> Tuple[List[int], Optional[List]]: \n",
    "        return [self.action for _ in observations], state\n"
   ]
  },
  {
   "cell_type": "code",
   "execution_count": null,
   "metadata": {},
   "outputs": [],
   "source": [
    "env = ToyEnv()\n",
    "agent = DullAgent(action=1)\n",
    "# exp_source = ptan.experience.ExperienceSource(\n",
    "#     env=[env],\n",
    "#     agent=agent,\n",
    "#     steps_count=2,\n",
    "# )\n",
    "exp_source = ptan.experience.ExperienceSourceFirstLast(\n",
    "    env=[env],\n",
    "    agent=agent,\n",
    "    steps_count=2,\n",
    "    gamma=1.0\n",
    ")\n",
    "buffer = ptan.experience.ExperienceReplayBuffer(exp_source, 10)"
   ]
  },
  {
   "cell_type": "code",
   "execution_count": null,
   "metadata": {},
   "outputs": [],
   "source": [
    "for idx, exp in enumerate(exp_source):\n",
    "    if idx >= 10:\n",
    "        break\n",
    "\n",
    "    print(f'{idx}: ({len(exp)} steps)')\n",
    "    # for step in exp:\n",
    "    #     print(step)\n",
    "    print(exp)\n",
    "    print('\\n')"
   ]
  },
  {
   "cell_type": "code",
   "execution_count": null,
   "metadata": {},
   "outputs": [],
   "source": [
    "buffer.populate(1)"
   ]
  },
  {
   "cell_type": "code",
   "execution_count": null,
   "metadata": {},
   "outputs": [],
   "source": [
    "buffer.buffer"
   ]
  },
  {
   "cell_type": "code",
   "execution_count": null,
   "metadata": {},
   "outputs": [],
   "source": [
    "buffer.sample(2)"
   ]
  },
  {
   "cell_type": "code",
   "execution_count": null,
   "metadata": {},
   "outputs": [],
   "source": [
    "def preprocess_raw(filepath: str, save_hdf=False):\n",
    "    stock_data = pd.read_csv(filepath, sep=',')\n",
    "    stock_data.columns = [old_n.replace('<', '').replace('>', '').lower() for old_n in stock_data.columns]\n",
    "    stock_data['date'] = stock_data['date'].astype('str')\n",
    "    stock_data['time'] = stock_data['time'].astype('str')\n",
    "    # stock_data.date = pd.to_datetime(stock_data.date, format=r'%Y%m%d')\n",
    "    stock_data['datetime'] = stock_data.apply(lambda x: pd.to_datetime(x['date'] + x['time'], format=r'%Y%m%d%H%M%S'), axis=1)\n",
    "    stock_data.drop(columns=['date', 'time'], inplace=True)\n",
    "    stock_data = stock_data.set_index('datetime')\n",
    "    if save_hdf:\n",
    "        stock_data.to_hdf(f'{filepath.split(\".csv\")[0]}.hdf', key='df')\n",
    "\n",
    "    return stock_data"
   ]
  },
  {
   "cell_type": "code",
   "execution_count": null,
   "metadata": {},
   "outputs": [],
   "source": [
    "# stock_data = preprocess_raw('Chapter08/data/YNDX_150101_151231.csv', save_hdf=True)\n",
    "# stock_data = preprocess_raw('Chapter08/data/YNDX_160101_161231.csv', save_hdf=True)"
   ]
  },
  {
   "cell_type": "code",
   "execution_count": null,
   "metadata": {},
   "outputs": [],
   "source": [
    "stock_data = pd.read_hdf('Chapter08/data/YNDX_150101_151231.hdf')\n",
    "stock_data.head(5)"
   ]
  },
  {
   "cell_type": "code",
   "execution_count": null,
   "metadata": {},
   "outputs": [],
   "source": [
    "fig = go.Figure(\n",
    "        data=[\n",
    "            go.Candlestick(\n",
    "                x=stock_data.index,\n",
    "                open=stock_data['open'],\n",
    "                high=stock_data['high'],\n",
    "                low=stock_data['low'],\n",
    "                close=stock_data['close']\n",
    "            )\n",
    "        ],\n",
    "    )\n",
    "\n",
    "fig.update_layout(xaxis_rangeslider_visible=False)\n",
    "fig.show()"
   ]
  },
  {
   "cell_type": "code",
   "execution_count": null,
   "metadata": {},
   "outputs": [],
   "source": [
    "from tensorforce import Agent, Environment\n",
    "\n",
    "# Pre-defined or custom environment\n",
    "environment = Environment.create(\n",
    "    environment='gym', level='CartPole-v0', max_episode_timesteps=500\n",
    ")\n",
    "\n",
    "# Instantiate a Tensorforce agent\n",
    "agent = Agent.create(\n",
    "    agent='tensorforce',\n",
    "    environment=environment,  # alternatively: states, actions, (max_episode_timesteps)\n",
    "    memory=10000,\n",
    "    update=dict(unit='timesteps', batch_size=64),\n",
    "    optimizer=dict(type='adam', learning_rate=3e-4),\n",
    "    policy=dict(network='auto'),\n",
    "    objective='policy_gradient',\n",
    "    reward_estimation=dict(horizon=20)\n",
    ")\n",
    "\n",
    "# Train for 300 episodes\n",
    "for _ in range(300):\n",
    "\n",
    "    # Initialize episode\n",
    "    states = environment.reset()\n",
    "    terminal = False\n",
    "\n",
    "    while not terminal:\n",
    "        # Episode timestep\n",
    "        actions = agent.act(states=states)\n",
    "        states, terminal, reward = environment.execute(actions=actions)\n",
    "        agent.observe(terminal=terminal, reward=reward)\n",
    "\n",
    "agent.close()\n",
    "environment.close()"
   ]
  }
 ],
 "metadata": {
  "interpreter": {
   "hash": "0338d86274c1c6b1188772c0f97a7685f83d930028d9d1e47d4bafb465479f9d"
  },
  "kernelspec": {
   "display_name": "Python 3.9.5 ('deep-rl')",
   "language": "python",
   "name": "python3"
  },
  "language_info": {
   "codemirror_mode": {
    "name": "ipython",
    "version": 3
   },
   "file_extension": ".py",
   "mimetype": "text/x-python",
   "name": "python",
   "nbconvert_exporter": "python",
   "pygments_lexer": "ipython3",
   "version": "3.9.5"
  },
  "orig_nbformat": 4
 },
 "nbformat": 4,
 "nbformat_minor": 2
}
