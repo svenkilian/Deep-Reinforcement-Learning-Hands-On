{
 "cells": [
  {
   "cell_type": "code",
   "execution_count": 5,
   "metadata": {},
   "outputs": [],
   "source": [
    "import torch\n",
    "import torch.nn as nn\n",
    "import numpy as np\n",
    "import collections\n",
    "import gym\n",
    "import ptan\n",
    "from typing import List, Optional, Tuple, Any"
   ]
  },
  {
   "cell_type": "code",
   "execution_count": 5,
   "metadata": {},
   "outputs": [],
   "source": [
    "class CustomNN(nn.Module):\n",
    "    def __init__(self, input_shape, n_actions):\n",
    "        super(CustomNN, self).__init__()\n",
    "\n",
    "        self.net = nn.Sequential(\n",
    "            nn.Linear(input_shape, 32),\n",
    "            nn.ReLU(),\n",
    "            nn.Linear(32, 64),\n",
    "            nn.ReLU(),\n",
    "            nn.Linear(64, n_actions),\n",
    "        )\n",
    "\n",
    "    def forward(self, x):\n",
    "        return self.net(x)"
   ]
  },
  {
   "cell_type": "code",
   "execution_count": 44,
   "metadata": {},
   "outputs": [],
   "source": [
    "net = CustomNN(4, 4)\n",
    "actions_v = torch.tensor(np.array([0, 3, 2, 1]), dtype=torch.int64)"
   ]
  },
  {
   "cell_type": "code",
   "execution_count": 51,
   "metadata": {},
   "outputs": [
    {
     "data": {
      "text/plain": [
       "tensor([0, 3, 2, 1])"
      ]
     },
     "execution_count": 51,
     "metadata": {},
     "output_type": "execute_result"
    }
   ],
   "source": [
    "out = net(torch.tensor(np.array([[1, 2, 3, 4], [4, 3, 2, 1]]), dtype=torch.float32))\n",
    "actions_v.unsqueeze(-1).squeeze(-1)\n",
    "# out"
   ]
  },
  {
   "cell_type": "code",
   "execution_count": 3,
   "metadata": {},
   "outputs": [],
   "source": [
    "class ToyEnv(gym.Env): \n",
    "    def __init__(self): \n",
    "        super(ToyEnv, self).__init__()\n",
    "        self.observation_space = gym.spaces.Discrete(n=5) \n",
    "        self.action_space = gym.spaces.Discrete(n=3)\n",
    "        self.step_index = 0 \n",
    "    \n",
    "    def reset(self): \n",
    "        self.step_index = 0 \n",
    "        return self.step_index \n",
    "        \n",
    "    def step(self, action): \n",
    "        is_done = self.step_index == 10 \n",
    "        if is_done: \n",
    "            return (\n",
    "                self.step_index % self.observation_space.n, \n",
    "                0.0, is_done, \n",
    "                {}\n",
    "                )\n",
    "        self.step_index += 1 \n",
    "        return (\n",
    "            self.step_index % self.observation_space.n, \n",
    "            float(action), \n",
    "            self.step_index == 10, \n",
    "            {}\n",
    "        )\n"
   ]
  },
  {
   "cell_type": "code",
   "execution_count": 6,
   "metadata": {},
   "outputs": [],
   "source": [
    "class DullAgent(ptan.agent.BaseAgent): \n",
    "    \"\"\" Agent always returns the fixed action \"\"\" \n",
    "    def __init__(self, action: int): \n",
    "        self.action = action \n",
    "    \n",
    "    def __call__(self, observations: List[Any], state: Optional[List] = None) -> Tuple[List[int], Optional[List]]: \n",
    "        return [self.action for _ in observations], state\n"
   ]
  },
  {
   "cell_type": "code",
   "execution_count": 31,
   "metadata": {},
   "outputs": [],
   "source": [
    "env = ToyEnv()\n",
    "agent = DullAgent(action=1)\n",
    "exp_source = ptan.experience.ExperienceSource(\n",
    "    env=[env, env],\n",
    "    agent=agent,\n",
    "    steps_count=8\n",
    ")"
   ]
  },
  {
   "cell_type": "code",
   "execution_count": 32,
   "metadata": {},
   "outputs": [
    {
     "name": "stdout",
     "output_type": "stream",
     "text": [
      "5\n",
      "4\n",
      "3\n",
      "2\n",
      "1\n",
      "8\n",
      "8\n",
      "8\n",
      "5\n",
      "4\n",
      "3\n",
      "2\n",
      "1\n",
      "8\n",
      "8\n",
      "8\n",
      "8\n",
      "8\n",
      "5\n",
      "4\n",
      "3\n"
     ]
    }
   ],
   "source": [
    "for idx, exp in enumerate(exp_source):\n",
    "    if idx > 20:\n",
    "        break\n",
    "\n",
    "    print(len(exp))"
   ]
  }
 ],
 "metadata": {
  "interpreter": {
   "hash": "0338d86274c1c6b1188772c0f97a7685f83d930028d9d1e47d4bafb465479f9d"
  },
  "kernelspec": {
   "display_name": "Python 3.9.5 ('deep-rl')",
   "language": "python",
   "name": "python3"
  },
  "language_info": {
   "codemirror_mode": {
    "name": "ipython",
    "version": 3
   },
   "file_extension": ".py",
   "mimetype": "text/x-python",
   "name": "python",
   "nbconvert_exporter": "python",
   "pygments_lexer": "ipython3",
   "version": "3.9.5"
  },
  "orig_nbformat": 4
 },
 "nbformat": 4,
 "nbformat_minor": 2
}
