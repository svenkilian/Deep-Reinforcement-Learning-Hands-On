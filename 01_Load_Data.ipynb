{
 "cells": [
  {
   "cell_type": "code",
   "execution_count": 14,
   "metadata": {},
   "outputs": [],
   "source": [
    "import pandas as pd\n",
    "import numpy as np\n",
    "from functools import reduce"
   ]
  },
  {
   "cell_type": "code",
   "execution_count": 82,
   "metadata": {},
   "outputs": [],
   "source": [
    "def replace_multiple(literal: str, replacements: dict) -> str:\n",
    "    return reduce(lambda x, y: x.replace(y[0], y[1]), [literal, *replacements.items()])\n",
    "\n",
    "\n",
    "def preprocess_raw(filepath: str, save_hdf=False):\n",
    "    stock_data = pd.read_csv(filepath, sep=',')\n",
    "    stock_data.columns = [old_n.lower() for old_n in stock_data.columns]\n",
    "    stock_data.rename(columns={'price': 'close', 'vol.': 'vol', 'change %': 'pct_change'}, inplace=True)\n",
    "    stock_data.date = pd.to_datetime(stock_data.date, infer_datetime_format=True)\n",
    "    for col in ['close', 'open', 'high', 'low']:\n",
    "        stock_data[col] = stock_data[col].apply(lambda x: float(x.replace(',', '')))\n",
    "    stock_data['vol_mult'] = stock_data['vol'].apply(lambda x: x[-1])\n",
    "    vol_mult_dict = {'K': 1e3, 'M': 1e6, 'B': 1e9}\n",
    "    stock_data['vol'] = stock_data.apply(lambda x: float(replace_multiple(x['vol'], {'K': '', 'M': '', 'B': ''})) * vol_mult_dict.get(x['vol_mult']), axis=1)\n",
    "    stock_data['pct_change'] = stock_data.apply(lambda x: float(x['pct_change'].replace('%', '')) * 1e-2, axis=1)\n",
    "    stock_data.drop(columns='vol_mult', inplace=True)\n",
    "    stock_data = stock_data.set_index('date')\n",
    "    stock_data = stock_data.sort_index()\n",
    "    stock_data = stock_data.reindex(columns=['open', 'high', 'low', 'close', 'vol'], )\n",
    "    if save_hdf:\n",
    "        stock_data.to_hdf(f'{filepath.split(\".csv\")[0]}.hdf', key='df')\n",
    "\n",
    "    return stock_data"
   ]
  },
  {
   "cell_type": "code",
   "execution_count": 86,
   "metadata": {},
   "outputs": [
    {
     "data": {
      "text/html": [
       "<div>\n",
       "<style scoped>\n",
       "    .dataframe tbody tr th:only-of-type {\n",
       "        vertical-align: middle;\n",
       "    }\n",
       "\n",
       "    .dataframe tbody tr th {\n",
       "        vertical-align: top;\n",
       "    }\n",
       "\n",
       "    .dataframe thead th {\n",
       "        text-align: right;\n",
       "    }\n",
       "</style>\n",
       "<table border=\"1\" class=\"dataframe\">\n",
       "  <thead>\n",
       "    <tr style=\"text-align: right;\">\n",
       "      <th></th>\n",
       "      <th>open</th>\n",
       "      <th>high</th>\n",
       "      <th>low</th>\n",
       "      <th>close</th>\n",
       "      <th>vol</th>\n",
       "    </tr>\n",
       "    <tr>\n",
       "      <th>date</th>\n",
       "      <th></th>\n",
       "      <th></th>\n",
       "      <th></th>\n",
       "      <th></th>\n",
       "      <th></th>\n",
       "    </tr>\n",
       "  </thead>\n",
       "  <tbody>\n",
       "    <tr>\n",
       "      <th>2022-03-13</th>\n",
       "      <td>38813.2</td>\n",
       "      <td>39272.3</td>\n",
       "      <td>37603.4</td>\n",
       "      <td>37792.4</td>\n",
       "      <td>1.550000e+09</td>\n",
       "    </tr>\n",
       "    <tr>\n",
       "      <th>2022-03-14</th>\n",
       "      <td>37789.5</td>\n",
       "      <td>39914.3</td>\n",
       "      <td>37613.6</td>\n",
       "      <td>39671.1</td>\n",
       "      <td>2.330000e+09</td>\n",
       "    </tr>\n",
       "    <tr>\n",
       "      <th>2022-03-15</th>\n",
       "      <td>39673.0</td>\n",
       "      <td>39854.7</td>\n",
       "      <td>38220.9</td>\n",
       "      <td>39285.7</td>\n",
       "      <td>2.250000e+09</td>\n",
       "    </tr>\n",
       "    <tr>\n",
       "      <th>2022-03-16</th>\n",
       "      <td>39282.5</td>\n",
       "      <td>41701.6</td>\n",
       "      <td>38953.2</td>\n",
       "      <td>41118.7</td>\n",
       "      <td>4.470000e+09</td>\n",
       "    </tr>\n",
       "    <tr>\n",
       "      <th>2022-03-17</th>\n",
       "      <td>41118.7</td>\n",
       "      <td>41406.0</td>\n",
       "      <td>40557.8</td>\n",
       "      <td>40691.9</td>\n",
       "      <td>3.280000e+09</td>\n",
       "    </tr>\n",
       "  </tbody>\n",
       "</table>\n",
       "</div>"
      ],
      "text/plain": [
       "               open     high      low    close           vol\n",
       "date                                                        \n",
       "2022-03-13  38813.2  39272.3  37603.4  37792.4  1.550000e+09\n",
       "2022-03-14  37789.5  39914.3  37613.6  39671.1  2.330000e+09\n",
       "2022-03-15  39673.0  39854.7  38220.9  39285.7  2.250000e+09\n",
       "2022-03-16  39282.5  41701.6  38953.2  41118.7  4.470000e+09\n",
       "2022-03-17  41118.7  41406.0  40557.8  40691.9  3.280000e+09"
      ]
     },
     "execution_count": 86,
     "metadata": {},
     "output_type": "execute_result"
    }
   ],
   "source": [
    "df = preprocess_raw('data/BTC_history.csv', save_hdf=True)\n",
    "# df = pd.read_hdf('data/BTC_history.hdf')\n",
    "df.tail()"
   ]
  },
  {
   "cell_type": "code",
   "execution_count": 87,
   "metadata": {},
   "outputs": [],
   "source": [
    "df.to_csv('data/BTC_history_n.csv', sep=',')"
   ]
  },
  {
   "cell_type": "code",
   "execution_count": null,
   "metadata": {},
   "outputs": [],
   "source": []
  }
 ],
 "metadata": {
  "interpreter": {
   "hash": "0338d86274c1c6b1188772c0f97a7685f83d930028d9d1e47d4bafb465479f9d"
  },
  "kernelspec": {
   "display_name": "Python 3.9.5 ('deep-rl')",
   "language": "python",
   "name": "python3"
  },
  "language_info": {
   "codemirror_mode": {
    "name": "ipython",
    "version": 3
   },
   "file_extension": ".py",
   "mimetype": "text/x-python",
   "name": "python",
   "nbconvert_exporter": "python",
   "pygments_lexer": "ipython3",
   "version": "3.10.0"
  },
  "orig_nbformat": 4
 },
 "nbformat": 4,
 "nbformat_minor": 2
}
